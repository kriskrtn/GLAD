{
  "nbformat": 4,
  "nbformat_minor": 0,
  "metadata": {
    "colab": {
      "provenance": []
    },
    "kernelspec": {
      "name": "python3",
      "display_name": "Python 3"
    },
    "language_info": {
      "name": "python"
    }
  },
  "cells": [
    {
      "cell_type": "code",
      "execution_count": 1,
      "metadata": {
        "id": "bgyWvoOqn7Kd"
      },
      "outputs": [],
      "source": [
        "import numpy as np\n",
        "from scipy.special import expit\n",
        "from scipy.special import logsumexp\n",
        "seed = 0xDEADF00D\n",
        "np.random.seed(seed)"
      ]
    },
    {
      "cell_type": "markdown",
      "source": [
        "Загрузим данные:"
      ],
      "metadata": {
        "id": "PdyviPruoZ-_"
      }
    },
    {
      "cell_type": "code",
      "source": [
        "!wget -O L.npy https://www.dropbox.com/scl/fi/wx98ttwxuelr1fxvvzx0x/L.npy?rlkey=xowj246djriekfc76kie2vk6q&st=97d88zth&dl=0"
      ],
      "metadata": {
        "colab": {
          "base_uri": "https://localhost:8080/"
        },
        "id": "bIR8ZuzVoABi",
        "outputId": "1c691214-5153-40f9-b172-ab9cde2f37d2"
      },
      "execution_count": 2,
      "outputs": [
        {
          "output_type": "stream",
          "name": "stdout",
          "text": [
            "--2025-08-17 20:02:11--  https://www.dropbox.com/scl/fi/wx98ttwxuelr1fxvvzx0x/L.npy?rlkey=xowj246djriekfc76kie2vk6q\n",
            "Resolving www.dropbox.com (www.dropbox.com)... 162.125.70.18, 2620:100:6057:18::a27d:d12\n",
            "Connecting to www.dropbox.com (www.dropbox.com)|162.125.70.18|:443... connected.\n",
            "HTTP request sent, awaiting response... 302 Found\n",
            "Location: https://uc1001c52e96fffe2aad9ba0fce7.dl.dropboxusercontent.com/cd/0/inline/Cvn4lpwPpXKuCvcYokyoGaHlEVJB6P6Vd3yAr3qu0cJ0bB9utmnzuGGzeUd7YzedAPm29h9JyKAEdF82i20hPu4qcXoo_IzvJgW8dz1_eDL6QQ5TI-F5a1XG5HKkzFpjJdmfBmtiDiUq_IxUd0SDD8US/file# [following]\n",
            "--2025-08-17 20:02:12--  https://uc1001c52e96fffe2aad9ba0fce7.dl.dropboxusercontent.com/cd/0/inline/Cvn4lpwPpXKuCvcYokyoGaHlEVJB6P6Vd3yAr3qu0cJ0bB9utmnzuGGzeUd7YzedAPm29h9JyKAEdF82i20hPu4qcXoo_IzvJgW8dz1_eDL6QQ5TI-F5a1XG5HKkzFpjJdmfBmtiDiUq_IxUd0SDD8US/file\n",
            "Resolving uc1001c52e96fffe2aad9ba0fce7.dl.dropboxusercontent.com (uc1001c52e96fffe2aad9ba0fce7.dl.dropboxusercontent.com)... 162.125.3.15, 2620:100:6057:15::a27d:d0f\n",
            "Connecting to uc1001c52e96fffe2aad9ba0fce7.dl.dropboxusercontent.com (uc1001c52e96fffe2aad9ba0fce7.dl.dropboxusercontent.com)|162.125.3.15|:443... connected.\n",
            "HTTP request sent, awaiting response... 200 OK\n",
            "Length: 320128 (313K) [text/plain]\n",
            "Saving to: ‘L.npy’\n",
            "\n",
            "L.npy               100%[===================>] 312.62K  --.-KB/s    in 0.1s    \n",
            "\n",
            "2025-08-17 20:02:13 (2.42 MB/s) - ‘L.npy’ saved [320128/320128]\n",
            "\n"
          ]
        }
      ]
    },
    {
      "cell_type": "markdown",
      "source": [
        "реализация EM-алгоритма:"
      ],
      "metadata": {
        "id": "sgb1qbDcod_8"
      }
    },
    {
      "cell_type": "code",
      "source": [
        "L = np.load('L.npy')\n",
        "n, m = L.shape\n",
        "\n",
        "def softplus(x):\n",
        "    '''stable version of log(1 + exp(x))'''\n",
        "    c = (x > 20) * 1.\n",
        "    return np.log1p(np.exp(x * (1-c)) * (1-c)) + x * c\n",
        "\n",
        "def posterior(alpha, beta, L):\n",
        "    \"\"\" Posterior over true labels z p(z|l, \\alpha, \\beta)\n",
        "    Args:\n",
        "        alpha: ndarray of shape (n_experts).\n",
        "        beta: ndarray of shape (n_problems).\n",
        "        L: ndarray of shape (n_problems, n_experts).\n",
        "    \"\"\"\n",
        "    log_prob_z = np.log(0.5)\n",
        "    log_prob_z0_true = log_prob_z + np.sum((L == 0) * (-softplus(-alpha * beta[:, None])) + (L == 1) * (-softplus(alpha * beta[:, None])), axis=1)\n",
        "    log_prob_z1_true = log_prob_z + np.sum((L == 1) * (-softplus(-alpha * beta[:, None])) + (L == 0) * (-softplus(alpha * beta[:, None])), axis=1)\n",
        "    log_prob_z_l = np.stack([log_prob_z0_true, log_prob_z1_true], axis=0)\n",
        "    log_q = log_prob_z_l - logsumexp(log_prob_z_l, axis=0)\n",
        "    return np.exp(log_q)\n",
        "\n",
        "\n",
        "def alpha_grad_lb(alpha, beta, L, q):\n",
        "    \"\"\" Gradient of lower bound wrt alpha\n",
        "    Args:\n",
        "        alpha: ndarray of shape (n_experts).\n",
        "        beta: ndarray of shape (n_problems).\n",
        "        L: ndarray of shape (n_problems, n_experts).\n",
        "        q: ndarray of shape (2, n_problems).\n",
        "    \"\"\"\n",
        "    sigma_alpha_beta = expit(alpha[None, :] * beta[:, None])\n",
        "    sigma_neg_alfa_beta = expit(-alpha[None, :] * beta[:, None])\n",
        "    one_class = q[0, :, None] * beta[:, None] * ((L == 0) * sigma_neg_alfa_beta - (L == 1) * sigma_alpha_beta)\n",
        "    another_class = q[1, :, None] * beta[:, None] * ((L == 1) * sigma_neg_alfa_beta - (L == 0) * sigma_alpha_beta)\n",
        "    grad = np.sum(one_class + another_class, axis=0)\n",
        "    return grad\n",
        "\n",
        "\n",
        "def logbeta_grad_lb(alpha, beta, L, q):\n",
        "    \"\"\" Gradient of lower bound wrt alpha\n",
        "    Args:\n",
        "        alpha: ndarray of shape (n_experts).\n",
        "        beta: ndarray of shape (n_problems).\n",
        "        L: ndarray of shape (n_problems, n_experts).\n",
        "        q: ndarray of shape (2, n_problems).\n",
        "    \"\"\"\n",
        "    sigma_alpha_beta = expit(alpha[None, :] * beta[:, None])\n",
        "    sigma_neg_alfa_beta = expit(-alpha[None, :] * beta[:, None])\n",
        "    one_class = q[0, :, None] * alpha[None, :] * ((L == 0) * sigma_neg_alfa_beta - (L == 1) * sigma_alpha_beta)\n",
        "    another_class = q[1, :, None] * alpha[None, :] * ((L == 1) * sigma_neg_alfa_beta - (L == 0) * sigma_alpha_beta)\n",
        "    grad = np.sum(one_class + another_class , axis=1)\n",
        "    return grad\n",
        "\n",
        "\n",
        "def lower_bound(alpha, beta, L, q):\n",
        "    \"\"\" Lower bound\n",
        "    Args:\n",
        "        alpha: ndarray of shape (n_experts).\n",
        "        beta: ndarray of shape (n_problems).\n",
        "        L: ndarray of shape (n_problems, n_experts).\n",
        "        q: ndarray of shape (2, n_problems).\n",
        "    \"\"\"\n",
        "    one_class = q[0, :, None] * ((L == 0) * -softplus(-alpha * beta[:, None]) + (L == 1) * -softplus(alpha * beta[:, None]))\n",
        "    another_class = q[1, :, None] * ((L == 1) * -softplus(-alpha * beta[:, None]) + (L == 0) * -softplus(alpha * beta[:, None]))\n",
        "    return np.sum(one_class + another_class) - np.sum(q * np.log(q))"
      ],
      "metadata": {
        "id": "JtwYphBeoAxH"
      },
      "execution_count": 3,
      "outputs": []
    },
    {
      "cell_type": "code",
      "source": [
        "def em(L, n_steps=1000, lr=1e-3):\n",
        "    # initialize parameters\n",
        "    alpha, logbeta = np.random.randn(m), np.random.randn(n)\n",
        "\n",
        "    for step in range(n_steps):\n",
        "      beta = np.exp(logbeta)\n",
        "      # E-step\n",
        "      q = posterior(alpha, beta, L)\n",
        "      # M-step\n",
        "      alpha += lr * alpha_grad_lb(alpha, beta, L, q)\n",
        "      logbeta += lr * logbeta_grad_lb(alpha, logbeta, L, q)\n",
        "    return alpha, np.exp(logbeta), q"
      ],
      "metadata": {
        "id": "WHMbN3CCoHoR"
      },
      "execution_count": 4,
      "outputs": []
    },
    {
      "cell_type": "code",
      "source": [
        "alpha, beta, q = em(L)"
      ],
      "metadata": {
        "id": "P3i-nOWCoIbO"
      },
      "execution_count": 5,
      "outputs": []
    },
    {
      "cell_type": "code",
      "source": [
        "!wget -O y.npy https://www.dropbox.com/scl/fi/6k1gj7qslf2n7ziiehjt3/y.npy?rlkey=h8eqstuyobanpkqgb5zcsj1oj&st=m4bs4thw&dl=0"
      ],
      "metadata": {
        "colab": {
          "base_uri": "https://localhost:8080/"
        },
        "id": "qQwujpWMow89",
        "outputId": "d295c3da-0814-4f37-c121-b75ffe11d02d"
      },
      "execution_count": 7,
      "outputs": [
        {
          "output_type": "stream",
          "name": "stdout",
          "text": [
            "--2025-08-17 20:05:46--  https://www.dropbox.com/scl/fi/6k1gj7qslf2n7ziiehjt3/y.npy?rlkey=h8eqstuyobanpkqgb5zcsj1oj\n",
            "Resolving www.dropbox.com (www.dropbox.com)... 162.125.2.18, 2620:100:6057:18::a27d:d12\n",
            "Connecting to www.dropbox.com (www.dropbox.com)|162.125.2.18|:443... connected.\n",
            "HTTP request sent, awaiting response... 302 Found\n",
            "Location: https://uc549c3667d3d3b2a92c4f0d5cee.dl.dropboxusercontent.com/cd/0/inline/CvlkuGeoEto9zyLC8WDxiArljC4f_a0b_NcDBAFi1ELGv2dwIiiaUfuXPRdBBtahCWGEKmVJDtkVSrABz7IM4bzqcTTt1u--m3jfY6sfw27UsDXQqUPlXssP4lZzrwGK6N55vin6Hy1prpV3RQrDBZwv/file# [following]\n",
            "--2025-08-17 20:05:47--  https://uc549c3667d3d3b2a92c4f0d5cee.dl.dropboxusercontent.com/cd/0/inline/CvlkuGeoEto9zyLC8WDxiArljC4f_a0b_NcDBAFi1ELGv2dwIiiaUfuXPRdBBtahCWGEKmVJDtkVSrABz7IM4bzqcTTt1u--m3jfY6sfw27UsDXQqUPlXssP4lZzrwGK6N55vin6Hy1prpV3RQrDBZwv/file\n",
            "Resolving uc549c3667d3d3b2a92c4f0d5cee.dl.dropboxusercontent.com (uc549c3667d3d3b2a92c4f0d5cee.dl.dropboxusercontent.com)... 162.125.3.15, 2620:100:6026:15::a27d:460f\n",
            "Connecting to uc549c3667d3d3b2a92c4f0d5cee.dl.dropboxusercontent.com (uc549c3667d3d3b2a92c4f0d5cee.dl.dropboxusercontent.com)|162.125.3.15|:443... connected.\n",
            "HTTP request sent, awaiting response... 200 OK\n",
            "Length: 16128 (16K) [text/plain]\n",
            "Saving to: ‘y.npy’\n",
            "\n",
            "y.npy               100%[===================>]  15.75K  --.-KB/s    in 0.002s  \n",
            "\n",
            "2025-08-17 20:05:47 (8.65 MB/s) - ‘y.npy’ saved [16128/16128]\n",
            "\n"
          ]
        }
      ]
    },
    {
      "cell_type": "markdown",
      "source": [
        "Рассчитаем `accuracy` разметки, полученной с помощью обычного голосования по большинству среди экспертов, и сравним его с качеством, полученным с помощью EM-алгоритма:"
      ],
      "metadata": {
        "id": "AwpqCHjiqAKC"
      }
    },
    {
      "cell_type": "code",
      "source": [
        "from sklearn.metrics import accuracy_score\n",
        "\n",
        "y = np.load('y.npy')\n",
        "accuracy_majority = accuracy_score(y, (np.mean(L, axis=1) >= 0.5).astype(int))\n",
        "print(f\"Accuracy majority: {accuracy_majority }\")\n",
        "accuracy_em = accuracy_score(y, np.argmax(q, axis=0))\n",
        "if accuracy_em < 0.5:\n",
        "  alpha = -alpha\n",
        "  accuracy_em = accuracy_score(y, 1 - np.argmax(q, axis=0))\n",
        "print(f\"Accuracy EM-algorithm: {accuracy_em}\")"
      ],
      "metadata": {
        "colab": {
          "base_uri": "https://localhost:8080/"
        },
        "id": "RPclrzBFo4V2",
        "outputId": "1b64ecca-c616-4d2d-c1c3-7b79cf22d9d4"
      },
      "execution_count": 8,
      "outputs": [
        {
          "output_type": "stream",
          "name": "stdout",
          "text": [
            "Accuracy majority: 0.892\n",
            "Accuracy EM-algorithm: 0.935\n"
          ]
        }
      ]
    }
  ]
}